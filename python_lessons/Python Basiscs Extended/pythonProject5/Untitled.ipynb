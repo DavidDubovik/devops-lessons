{
 "cells": [
  {
   "cell_type": "code",
   "execution_count": 1,
   "id": "8bf03451-99f9-44ea-a593-19294fa6cd0b",
   "metadata": {},
   "outputs": [],
   "source": [
    "a = 5\n",
    "b =3"
   ]
  },
  {
   "cell_type": "code",
   "execution_count": 2,
   "id": "5d36514f-4d74-4cb1-b522-36551500e2fe",
   "metadata": {},
   "outputs": [
    {
     "data": {
      "text/plain": [
       "8"
      ]
     },
     "execution_count": 2,
     "metadata": {},
     "output_type": "execute_result"
    }
   ],
   "source": [
    "a + b * 2\n",
    "a + b"
   ]
  },
  {
   "cell_type": "code",
   "execution_count": 8,
   "id": "8c10d14a-6e20-444e-8e11-20c41e890d7e",
   "metadata": {},
   "outputs": [
    {
     "name": "stdout",
     "output_type": "stream",
     "text": [
      "8\n"
     ]
    },
    {
     "data": {
      "text/plain": [
       "11"
      ]
     },
     "execution_count": 8,
     "metadata": {},
     "output_type": "execute_result"
    }
   ],
   "source": [
    "print(a + b)\n",
    "a + b * 2"
   ]
  },
  {
   "cell_type": "code",
   "execution_count": 6,
   "id": "898e4c8a-d7d6-44e2-8626-2c94dab08770",
   "metadata": {},
   "outputs": [
    {
     "name": "stdout",
     "output_type": "stream",
     "text": [
      "<class 'int'>\n"
     ]
    }
   ],
   "source": [
    "print(type(8))"
   ]
  },
  {
   "cell_type": "code",
   "execution_count": 7,
   "id": "ca2b4b4c-d669-41a5-a62e-943b9bbabad0",
   "metadata": {},
   "outputs": [
    {
     "data": {
      "text/plain": [
       "int"
      ]
     },
     "execution_count": 7,
     "metadata": {},
     "output_type": "execute_result"
    }
   ],
   "source": [
    "type(8)"
   ]
  },
  {
   "cell_type": "markdown",
   "id": "c042adbb-260a-4c8d-9771-ecbef2976dd6",
   "metadata": {},
   "source": [
    "#markdown"
   ]
  },
  {
   "cell_type": "code",
   "execution_count": null,
   "id": "be8c4a43-4a76-41b7-b715-b5eeb25ae76d",
   "metadata": {},
   "outputs": [],
   "source": []
  }
 ],
 "metadata": {
  "kernelspec": {
   "display_name": "Python 3 (ipykernel)",
   "language": "python",
   "name": "python3"
  },
  "language_info": {
   "codemirror_mode": {
    "name": "ipython",
    "version": 3
   },
   "file_extension": ".py",
   "mimetype": "text/x-python",
   "name": "python",
   "nbconvert_exporter": "python",
   "pygments_lexer": "ipython3",
   "version": "3.12.2"
  }
 },
 "nbformat": 4,
 "nbformat_minor": 5
}
